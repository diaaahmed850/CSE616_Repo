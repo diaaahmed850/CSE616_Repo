{
 "cells": [
  {
   "cell_type": "markdown",
   "id": "greater-history",
   "metadata": {},
   "source": [
    "# Artificial Neural Network For Multi-Classification - Python Implementation "
   ]
  },
  {
   "cell_type": "markdown",
   "id": "connected-climate",
   "metadata": {},
   "source": [
    "Diaa Ahmed Abdelzaher Abdelaziz\n",
    "1902558@eng.asu.edu.eg"
   ]
  },
  {
   "cell_type": "markdown",
   "id": "verified-password",
   "metadata": {},
   "source": [
    "### General steps for a classification problem:\n",
    "1. Importing Necessary Libraries\n",
    "2. Read, analyze and visualize the dataset\n",
    "3. Define helper functions\n",
    "4. Prepare the dataset for training\n",
    "5. Build neural network model\n",
    "6. Train and plot the accuracy of the model"
   ]
  },
  {
   "cell_type": "markdown",
   "id": "otherwise-polls",
   "metadata": {},
   "source": [
    "**1. Importing Necessary Libraries**\n"
   ]
  },
  {
   "cell_type": "code",
   "execution_count": 1,
   "id": "subsequent-challenge",
   "metadata": {},
   "outputs": [],
   "source": [
    "import numpy as np\n",
    "import pandas as pd\n",
    "import matplotlib.pyplot as plt\n",
    "from scipy import stats"
   ]
  },
  {
   "cell_type": "markdown",
   "id": "civilian-front",
   "metadata": {},
   "source": [
    "**2. Read, analyze and visualize the dataset**"
   ]
  },
  {
   "cell_type": "code",
   "execution_count": 2,
   "id": "unlike-buffer",
   "metadata": {},
   "outputs": [
    {
     "data": {
      "text/html": [
       "<div>\n",
       "<style scoped>\n",
       "    .dataframe tbody tr th:only-of-type {\n",
       "        vertical-align: middle;\n",
       "    }\n",
       "\n",
       "    .dataframe tbody tr th {\n",
       "        vertical-align: top;\n",
       "    }\n",
       "\n",
       "    .dataframe thead th {\n",
       "        text-align: right;\n",
       "    }\n",
       "</style>\n",
       "<table border=\"1\" class=\"dataframe\">\n",
       "  <thead>\n",
       "    <tr style=\"text-align: right;\">\n",
       "      <th></th>\n",
       "      <th>fixed acidity</th>\n",
       "      <th>volatile acidity</th>\n",
       "      <th>citric acid</th>\n",
       "      <th>residual sugar</th>\n",
       "      <th>chlorides</th>\n",
       "      <th>free sulfur dioxide</th>\n",
       "      <th>total sulfur dioxide</th>\n",
       "      <th>density</th>\n",
       "      <th>pH</th>\n",
       "      <th>sulphates</th>\n",
       "      <th>alcohol</th>\n",
       "      <th>quality</th>\n",
       "    </tr>\n",
       "  </thead>\n",
       "  <tbody>\n",
       "    <tr>\n",
       "      <th>0</th>\n",
       "      <td>7.4</td>\n",
       "      <td>0.70</td>\n",
       "      <td>0.00</td>\n",
       "      <td>1.9</td>\n",
       "      <td>0.076</td>\n",
       "      <td>11.0</td>\n",
       "      <td>34.0</td>\n",
       "      <td>0.9978</td>\n",
       "      <td>3.51</td>\n",
       "      <td>0.56</td>\n",
       "      <td>9.4</td>\n",
       "      <td>5</td>\n",
       "    </tr>\n",
       "    <tr>\n",
       "      <th>1</th>\n",
       "      <td>7.8</td>\n",
       "      <td>0.88</td>\n",
       "      <td>0.00</td>\n",
       "      <td>2.6</td>\n",
       "      <td>0.098</td>\n",
       "      <td>25.0</td>\n",
       "      <td>67.0</td>\n",
       "      <td>0.9968</td>\n",
       "      <td>3.20</td>\n",
       "      <td>0.68</td>\n",
       "      <td>9.8</td>\n",
       "      <td>5</td>\n",
       "    </tr>\n",
       "    <tr>\n",
       "      <th>2</th>\n",
       "      <td>7.8</td>\n",
       "      <td>0.76</td>\n",
       "      <td>0.04</td>\n",
       "      <td>2.3</td>\n",
       "      <td>0.092</td>\n",
       "      <td>15.0</td>\n",
       "      <td>54.0</td>\n",
       "      <td>0.9970</td>\n",
       "      <td>3.26</td>\n",
       "      <td>0.65</td>\n",
       "      <td>9.8</td>\n",
       "      <td>5</td>\n",
       "    </tr>\n",
       "    <tr>\n",
       "      <th>3</th>\n",
       "      <td>11.2</td>\n",
       "      <td>0.28</td>\n",
       "      <td>0.56</td>\n",
       "      <td>1.9</td>\n",
       "      <td>0.075</td>\n",
       "      <td>17.0</td>\n",
       "      <td>60.0</td>\n",
       "      <td>0.9980</td>\n",
       "      <td>3.16</td>\n",
       "      <td>0.58</td>\n",
       "      <td>9.8</td>\n",
       "      <td>6</td>\n",
       "    </tr>\n",
       "    <tr>\n",
       "      <th>4</th>\n",
       "      <td>7.4</td>\n",
       "      <td>0.70</td>\n",
       "      <td>0.00</td>\n",
       "      <td>1.9</td>\n",
       "      <td>0.076</td>\n",
       "      <td>11.0</td>\n",
       "      <td>34.0</td>\n",
       "      <td>0.9978</td>\n",
       "      <td>3.51</td>\n",
       "      <td>0.56</td>\n",
       "      <td>9.4</td>\n",
       "      <td>5</td>\n",
       "    </tr>\n",
       "  </tbody>\n",
       "</table>\n",
       "</div>"
      ],
      "text/plain": [
       "   fixed acidity  volatile acidity  citric acid  residual sugar  chlorides  \\\n",
       "0            7.4              0.70         0.00             1.9      0.076   \n",
       "1            7.8              0.88         0.00             2.6      0.098   \n",
       "2            7.8              0.76         0.04             2.3      0.092   \n",
       "3           11.2              0.28         0.56             1.9      0.075   \n",
       "4            7.4              0.70         0.00             1.9      0.076   \n",
       "\n",
       "   free sulfur dioxide  total sulfur dioxide  density    pH  sulphates  \\\n",
       "0                 11.0                  34.0   0.9978  3.51       0.56   \n",
       "1                 25.0                  67.0   0.9968  3.20       0.68   \n",
       "2                 15.0                  54.0   0.9970  3.26       0.65   \n",
       "3                 17.0                  60.0   0.9980  3.16       0.58   \n",
       "4                 11.0                  34.0   0.9978  3.51       0.56   \n",
       "\n",
       "   alcohol  quality  \n",
       "0      9.4        5  \n",
       "1      9.8        5  \n",
       "2      9.8        5  \n",
       "3      9.8        6  \n",
       "4      9.4        5  "
      ]
     },
     "execution_count": 2,
     "metadata": {},
     "output_type": "execute_result"
    }
   ],
   "source": [
    "data = pd.read_csv('winequality-red.csv', sep=';')\n",
    "data.head()"
   ]
  },
  {
   "cell_type": "code",
   "execution_count": 3,
   "id": "knowing-strap",
   "metadata": {},
   "outputs": [
    {
     "name": "stdout",
     "output_type": "stream",
     "text": [
      "<class 'pandas.core.frame.DataFrame'>\n",
      "RangeIndex: 1599 entries, 0 to 1598\n",
      "Data columns (total 12 columns):\n",
      " #   Column                Non-Null Count  Dtype  \n",
      "---  ------                --------------  -----  \n",
      " 0   fixed acidity         1599 non-null   float64\n",
      " 1   volatile acidity      1599 non-null   float64\n",
      " 2   citric acid           1599 non-null   float64\n",
      " 3   residual sugar        1599 non-null   float64\n",
      " 4   chlorides             1599 non-null   float64\n",
      " 5   free sulfur dioxide   1599 non-null   float64\n",
      " 6   total sulfur dioxide  1599 non-null   float64\n",
      " 7   density               1599 non-null   float64\n",
      " 8   pH                    1599 non-null   float64\n",
      " 9   sulphates             1599 non-null   float64\n",
      " 10  alcohol               1599 non-null   float64\n",
      " 11  quality               1599 non-null   int64  \n",
      "dtypes: float64(11), int64(1)\n",
      "memory usage: 150.0 KB\n"
     ]
    }
   ],
   "source": [
    "data.info()"
   ]
  },
  {
   "cell_type": "markdown",
   "id": "close-greece",
   "metadata": {},
   "source": [
    "Our dataset contain **1559** data samples and **12** columns/features with numerical float values."
   ]
  },
  {
   "cell_type": "code",
   "execution_count": 4,
   "id": "related-circular",
   "metadata": {},
   "outputs": [
    {
     "data": {
      "text/plain": [
       "array([[<AxesSubplot:title={'center':'fixed acidity'}>,\n",
       "        <AxesSubplot:title={'center':'volatile acidity'}>,\n",
       "        <AxesSubplot:title={'center':'citric acid'}>],\n",
       "       [<AxesSubplot:title={'center':'residual sugar'}>,\n",
       "        <AxesSubplot:title={'center':'chlorides'}>,\n",
       "        <AxesSubplot:title={'center':'free sulfur dioxide'}>],\n",
       "       [<AxesSubplot:title={'center':'total sulfur dioxide'}>,\n",
       "        <AxesSubplot:title={'center':'density'}>,\n",
       "        <AxesSubplot:title={'center':'pH'}>],\n",
       "       [<AxesSubplot:title={'center':'sulphates'}>,\n",
       "        <AxesSubplot:title={'center':'alcohol'}>,\n",
       "        <AxesSubplot:title={'center':'quality'}>]], dtype=object)"
      ]
     },
     "execution_count": 4,
     "metadata": {},
     "output_type": "execute_result"
    },
    {
     "data": {
      "image/png": "[encoded data removed]",
      "text/plain": [
       "<Figure size 864x864 with 12 Axes>"
      ]
     },
     "metadata": {
      "needs_background": "light"
     },
     "output_type": "display_data"
    }
   ],
   "source": [
    "data.hist(figsize=(12,12))"
   ]
  },
  {
   "cell_type": "markdown",
   "id": "amateur-static",
   "metadata": {},
   "source": [
    "The target feature is ***quality*** and it has 6 discrete values {3,4,5,6,7,8}"
   ]
  },
  {
   "cell_type": "markdown",
   "id": "dressed-orbit",
   "metadata": {},
   "source": [
    "**3. Define helper functions**"
   ]
  },
  {
   "cell_type": "markdown",
   "id": "corrected-anchor",
   "metadata": {},
   "source": [
    "**shuffle_split_data** function which split the dataset into training and testing sets according to defined split ratio"
   ]
  },
  {
   "cell_type": "code",
   "execution_count": 5,
   "id": "frank-bishop",
   "metadata": {},
   "outputs": [],
   "source": [
    "def shuffle_split_data(X, y, ratio):\n",
    "    arr_rand = np.random.rand(X.shape[0])\n",
    "    split = arr_rand < np.percentile(arr_rand, ratio)\n",
    "    #split = np.random.choice(range(X.shape[0]), int((ratio/100)*X.shape[0]))\n",
    "    X_train = X[~split]\n",
    "    y_train = y[~split]\n",
    "    X_test =  X[split]\n",
    "    y_test = y[split]\n",
    "\n",
    "    #print (len(X_train), len(y_train), len(X_test), len(y_test))\n",
    "    return X_train, y_train, X_test, y_test"
   ]
  },
  {
   "cell_type": "markdown",
   "id": "modified-karaoke",
   "metadata": {},
   "source": [
    "**encode_and_bind** function which apply One Hot encoding on the target feature"
   ]
  },
  {
   "cell_type": "code",
   "execution_count": 6,
   "id": "considerable-gender",
   "metadata": {},
   "outputs": [],
   "source": [
    "def one_hot_encode(array):\n",
    "    \"\"\"Convert an iterable of indices to one-hot encoded labels.\"\"\"\n",
    "    unique, inverse = np.unique(array, return_inverse=True)\n",
    "    onehot = np.eye(unique.shape[0])[inverse]\n",
    "    return onehot"
   ]
  },
  {
   "cell_type": "markdown",
   "id": "honey-buddy",
   "metadata": {},
   "source": [
    "**standardize_data** function which normalize the data by subtracting the mean and dividing by the \n",
    "stdev for each feature and each sample"
   ]
  },
  {
   "cell_type": "code",
   "execution_count": 7,
   "id": "generous-enforcement",
   "metadata": {},
   "outputs": [],
   "source": [
    "def standardize_data(data):\n",
    "    #Compute the mean\n",
    "    data_mean = data.sum(axis=0)/data.shape[0]\n",
    "    #Compute the standard deviation\n",
    "    data_std = np.std(data, axis=0, dtype=np.float64)\n",
    "    #Standardize the data\n",
    "    data_standard = (data - data_mean)/data_std\n",
    "    \n",
    "    return data_standard"
   ]
  },
  {
   "cell_type": "markdown",
   "id": "graphic-adjustment",
   "metadata": {},
   "source": [
    "**4. Prepare the dataset for training**"
   ]
  },
  {
   "cell_type": "markdown",
   "id": "still-being",
   "metadata": {},
   "source": [
    "Check for duplicates"
   ]
  },
  {
   "cell_type": "code",
   "execution_count": 8,
   "id": "furnished-opera",
   "metadata": {},
   "outputs": [
    {
     "data": {
      "text/html": [
       "<div>\n",
       "<style scoped>\n",
       "    .dataframe tbody tr th:only-of-type {\n",
       "        vertical-align: middle;\n",
       "    }\n",
       "\n",
       "    .dataframe tbody tr th {\n",
       "        vertical-align: top;\n",
       "    }\n",
       "\n",
       "    .dataframe thead th {\n",
       "        text-align: right;\n",
       "    }\n",
       "</style>\n",
       "<table border=\"1\" class=\"dataframe\">\n",
       "  <thead>\n",
       "    <tr style=\"text-align: right;\">\n",
       "      <th></th>\n",
       "      <th>fixed acidity</th>\n",
       "      <th>volatile acidity</th>\n",
       "      <th>citric acid</th>\n",
       "      <th>residual sugar</th>\n",
       "      <th>chlorides</th>\n",
       "      <th>free sulfur dioxide</th>\n",
       "      <th>total sulfur dioxide</th>\n",
       "      <th>density</th>\n",
       "      <th>pH</th>\n",
       "      <th>sulphates</th>\n",
       "      <th>alcohol</th>\n",
       "      <th>quality</th>\n",
       "    </tr>\n",
       "  </thead>\n",
       "  <tbody>\n",
       "    <tr>\n",
       "      <th>498</th>\n",
       "      <td>10.7</td>\n",
       "      <td>0.35</td>\n",
       "      <td>0.53</td>\n",
       "      <td>2.60</td>\n",
       "      <td>0.070</td>\n",
       "      <td>5.0</td>\n",
       "      <td>16.0</td>\n",
       "      <td>0.99720</td>\n",
       "      <td>3.15</td>\n",
       "      <td>0.65</td>\n",
       "      <td>11.0</td>\n",
       "      <td>8</td>\n",
       "    </tr>\n",
       "    <tr>\n",
       "      <th>495</th>\n",
       "      <td>10.7</td>\n",
       "      <td>0.35</td>\n",
       "      <td>0.53</td>\n",
       "      <td>2.60</td>\n",
       "      <td>0.070</td>\n",
       "      <td>5.0</td>\n",
       "      <td>16.0</td>\n",
       "      <td>0.99720</td>\n",
       "      <td>3.15</td>\n",
       "      <td>0.65</td>\n",
       "      <td>11.0</td>\n",
       "      <td>8</td>\n",
       "    </tr>\n",
       "    <tr>\n",
       "      <th>290</th>\n",
       "      <td>8.7</td>\n",
       "      <td>0.52</td>\n",
       "      <td>0.09</td>\n",
       "      <td>2.50</td>\n",
       "      <td>0.091</td>\n",
       "      <td>20.0</td>\n",
       "      <td>49.0</td>\n",
       "      <td>0.99760</td>\n",
       "      <td>3.34</td>\n",
       "      <td>0.86</td>\n",
       "      <td>10.6</td>\n",
       "      <td>7</td>\n",
       "    </tr>\n",
       "    <tr>\n",
       "      <th>1002</th>\n",
       "      <td>9.1</td>\n",
       "      <td>0.29</td>\n",
       "      <td>0.33</td>\n",
       "      <td>2.05</td>\n",
       "      <td>0.063</td>\n",
       "      <td>13.0</td>\n",
       "      <td>27.0</td>\n",
       "      <td>0.99516</td>\n",
       "      <td>3.26</td>\n",
       "      <td>0.84</td>\n",
       "      <td>11.7</td>\n",
       "      <td>7</td>\n",
       "    </tr>\n",
       "    <tr>\n",
       "      <th>997</th>\n",
       "      <td>5.6</td>\n",
       "      <td>0.66</td>\n",
       "      <td>0.00</td>\n",
       "      <td>2.20</td>\n",
       "      <td>0.087</td>\n",
       "      <td>3.0</td>\n",
       "      <td>11.0</td>\n",
       "      <td>0.99378</td>\n",
       "      <td>3.71</td>\n",
       "      <td>0.63</td>\n",
       "      <td>12.8</td>\n",
       "      <td>7</td>\n",
       "    </tr>\n",
       "  </tbody>\n",
       "</table>\n",
       "</div>"
      ],
      "text/plain": [
       "      fixed acidity  volatile acidity  citric acid  residual sugar  chlorides  \\\n",
       "498            10.7              0.35         0.53            2.60      0.070   \n",
       "495            10.7              0.35         0.53            2.60      0.070   \n",
       "290             8.7              0.52         0.09            2.50      0.091   \n",
       "1002            9.1              0.29         0.33            2.05      0.063   \n",
       "997             5.6              0.66         0.00            2.20      0.087   \n",
       "\n",
       "      free sulfur dioxide  total sulfur dioxide  density    pH  sulphates  \\\n",
       "498                   5.0                  16.0  0.99720  3.15       0.65   \n",
       "495                   5.0                  16.0  0.99720  3.15       0.65   \n",
       "290                  20.0                  49.0  0.99760  3.34       0.86   \n",
       "1002                 13.0                  27.0  0.99516  3.26       0.84   \n",
       "997                   3.0                  11.0  0.99378  3.71       0.63   \n",
       "\n",
       "      alcohol  quality  \n",
       "498      11.0        8  \n",
       "495      11.0        8  \n",
       "290      10.6        7  \n",
       "1002     11.7        7  \n",
       "997      12.8        7  "
      ]
     },
     "execution_count": 8,
     "metadata": {},
     "output_type": "execute_result"
    }
   ],
   "source": [
    "duplicates = data[data.duplicated(keep=False)]\n",
    "duplicates = duplicates.sort_values(by=['quality'], ascending= False)\n",
    "duplicates.head()"
   ]
  },
  {
   "cell_type": "code",
   "execution_count": 9,
   "id": "peripheral-fountain",
   "metadata": {},
   "outputs": [
    {
     "name": "stdout",
     "output_type": "stream",
     "text": [
      "There is 240 duplicated datapoints in our dataset\n"
     ]
    }
   ],
   "source": [
    "print(\"There is {} duplicated datapoints in our dataset\".format(data.duplicated().sum()))"
   ]
  },
  {
   "cell_type": "markdown",
   "id": "nominated-adams",
   "metadata": {},
   "source": [
    "Duplicate Records doesn't contribue to our prediction. Rather they just increase the training size. It's usual to get rid of duplicates from our dataset."
   ]
  },
  {
   "cell_type": "code",
   "execution_count": 10,
   "id": "cleared-invention",
   "metadata": {},
   "outputs": [
    {
     "name": "stdout",
     "output_type": "stream",
     "text": [
      "Total 1359 datapoints remaining with 12 features\n"
     ]
    }
   ],
   "source": [
    "data.drop_duplicates(keep = 'first', inplace = True)\n",
    "print('Total {} datapoints remaining with {} features'.format(data.shape[0], data.shape[1]))"
   ]
  },
  {
   "cell_type": "code",
   "execution_count": 11,
   "id": "attractive-holder",
   "metadata": {},
   "outputs": [],
   "source": [
    "columns = list(data.columns.values)\n",
    "\n",
    "labels = data[columns[-1:]]\n",
    "labels = np.array(labels, dtype='int64')\n",
    "features = data[columns[0:-1]]\n",
    "features = np.array(features, dtype='float64')"
   ]
  },
  {
   "cell_type": "markdown",
   "id": "resident-seafood",
   "metadata": {},
   "source": [
    "Use describe() function to show the statistics of each feature."
   ]
  },
  {
   "cell_type": "code",
   "execution_count": 12,
   "id": "appreciated-theater",
   "metadata": {},
   "outputs": [
    {
     "data": {
      "text/html": [
       "<div>\n",
       "<style scoped>\n",
       "    .dataframe tbody tr th:only-of-type {\n",
       "        vertical-align: middle;\n",
       "    }\n",
       "\n",
       "    .dataframe tbody tr th {\n",
       "        vertical-align: top;\n",
       "    }\n",
       "\n",
       "    .dataframe thead th {\n",
       "        text-align: right;\n",
       "    }\n",
       "</style>\n",
       "<table border=\"1\" class=\"dataframe\">\n",
       "  <thead>\n",
       "    <tr style=\"text-align: right;\">\n",
       "      <th></th>\n",
       "      <th>fixed acidity</th>\n",
       "      <th>volatile acidity</th>\n",
       "      <th>citric acid</th>\n",
       "      <th>residual sugar</th>\n",
       "      <th>chlorides</th>\n",
       "      <th>free sulfur dioxide</th>\n",
       "      <th>total sulfur dioxide</th>\n",
       "      <th>density</th>\n",
       "      <th>pH</th>\n",
       "      <th>sulphates</th>\n",
       "      <th>alcohol</th>\n",
       "    </tr>\n",
       "  </thead>\n",
       "  <tbody>\n",
       "    <tr>\n",
       "      <th>count</th>\n",
       "      <td>1359.000000</td>\n",
       "      <td>1359.000000</td>\n",
       "      <td>1359.000000</td>\n",
       "      <td>1359.000000</td>\n",
       "      <td>1359.000000</td>\n",
       "      <td>1359.000000</td>\n",
       "      <td>1359.000000</td>\n",
       "      <td>1359.000000</td>\n",
       "      <td>1359.000000</td>\n",
       "      <td>1359.000000</td>\n",
       "      <td>1359.000000</td>\n",
       "    </tr>\n",
       "    <tr>\n",
       "      <th>mean</th>\n",
       "      <td>8.310596</td>\n",
       "      <td>0.529478</td>\n",
       "      <td>0.272333</td>\n",
       "      <td>2.523400</td>\n",
       "      <td>0.088124</td>\n",
       "      <td>15.893304</td>\n",
       "      <td>46.825975</td>\n",
       "      <td>0.996709</td>\n",
       "      <td>3.309787</td>\n",
       "      <td>0.658705</td>\n",
       "      <td>10.432315</td>\n",
       "    </tr>\n",
       "    <tr>\n",
       "      <th>std</th>\n",
       "      <td>1.736990</td>\n",
       "      <td>0.183031</td>\n",
       "      <td>0.195537</td>\n",
       "      <td>1.352314</td>\n",
       "      <td>0.049377</td>\n",
       "      <td>10.447270</td>\n",
       "      <td>33.408946</td>\n",
       "      <td>0.001869</td>\n",
       "      <td>0.155036</td>\n",
       "      <td>0.170667</td>\n",
       "      <td>1.082065</td>\n",
       "    </tr>\n",
       "    <tr>\n",
       "      <th>min</th>\n",
       "      <td>4.600000</td>\n",
       "      <td>0.120000</td>\n",
       "      <td>0.000000</td>\n",
       "      <td>0.900000</td>\n",
       "      <td>0.012000</td>\n",
       "      <td>1.000000</td>\n",
       "      <td>6.000000</td>\n",
       "      <td>0.990070</td>\n",
       "      <td>2.740000</td>\n",
       "      <td>0.330000</td>\n",
       "      <td>8.400000</td>\n",
       "    </tr>\n",
       "    <tr>\n",
       "      <th>25%</th>\n",
       "      <td>7.100000</td>\n",
       "      <td>0.390000</td>\n",
       "      <td>0.090000</td>\n",
       "      <td>1.900000</td>\n",
       "      <td>0.070000</td>\n",
       "      <td>7.000000</td>\n",
       "      <td>22.000000</td>\n",
       "      <td>0.995600</td>\n",
       "      <td>3.210000</td>\n",
       "      <td>0.550000</td>\n",
       "      <td>9.500000</td>\n",
       "    </tr>\n",
       "    <tr>\n",
       "      <th>50%</th>\n",
       "      <td>7.900000</td>\n",
       "      <td>0.520000</td>\n",
       "      <td>0.260000</td>\n",
       "      <td>2.200000</td>\n",
       "      <td>0.079000</td>\n",
       "      <td>14.000000</td>\n",
       "      <td>38.000000</td>\n",
       "      <td>0.996700</td>\n",
       "      <td>3.310000</td>\n",
       "      <td>0.620000</td>\n",
       "      <td>10.200000</td>\n",
       "    </tr>\n",
       "    <tr>\n",
       "      <th>75%</th>\n",
       "      <td>9.200000</td>\n",
       "      <td>0.640000</td>\n",
       "      <td>0.430000</td>\n",
       "      <td>2.600000</td>\n",
       "      <td>0.091000</td>\n",
       "      <td>21.000000</td>\n",
       "      <td>63.000000</td>\n",
       "      <td>0.997820</td>\n",
       "      <td>3.400000</td>\n",
       "      <td>0.730000</td>\n",
       "      <td>11.100000</td>\n",
       "    </tr>\n",
       "    <tr>\n",
       "      <th>max</th>\n",
       "      <td>15.900000</td>\n",
       "      <td>1.580000</td>\n",
       "      <td>1.000000</td>\n",
       "      <td>15.500000</td>\n",
       "      <td>0.611000</td>\n",
       "      <td>72.000000</td>\n",
       "      <td>289.000000</td>\n",
       "      <td>1.003690</td>\n",
       "      <td>4.010000</td>\n",
       "      <td>2.000000</td>\n",
       "      <td>14.900000</td>\n",
       "    </tr>\n",
       "  </tbody>\n",
       "</table>\n",
       "</div>"
      ],
      "text/plain": [
       "       fixed acidity  volatile acidity  citric acid  residual sugar  \\\n",
       "count    1359.000000       1359.000000  1359.000000     1359.000000   \n",
       "mean        8.310596          0.529478     0.272333        2.523400   \n",
       "std         1.736990          0.183031     0.195537        1.352314   \n",
       "min         4.600000          0.120000     0.000000        0.900000   \n",
       "25%         7.100000          0.390000     0.090000        1.900000   \n",
       "50%         7.900000          0.520000     0.260000        2.200000   \n",
       "75%         9.200000          0.640000     0.430000        2.600000   \n",
       "max        15.900000          1.580000     1.000000       15.500000   \n",
       "\n",
       "         chlorides  free sulfur dioxide  total sulfur dioxide      density  \\\n",
       "count  1359.000000          1359.000000           1359.000000  1359.000000   \n",
       "mean      0.088124            15.893304             46.825975     0.996709   \n",
       "std       0.049377            10.447270             33.408946     0.001869   \n",
       "min       0.012000             1.000000              6.000000     0.990070   \n",
       "25%       0.070000             7.000000             22.000000     0.995600   \n",
       "50%       0.079000            14.000000             38.000000     0.996700   \n",
       "75%       0.091000            21.000000             63.000000     0.997820   \n",
       "max       0.611000            72.000000            289.000000     1.003690   \n",
       "\n",
       "                pH    sulphates      alcohol  \n",
       "count  1359.000000  1359.000000  1359.000000  \n",
       "mean      3.309787     0.658705    10.432315  \n",
       "std       0.155036     0.170667     1.082065  \n",
       "min       2.740000     0.330000     8.400000  \n",
       "25%       3.210000     0.550000     9.500000  \n",
       "50%       3.310000     0.620000    10.200000  \n",
       "75%       3.400000     0.730000    11.100000  \n",
       "max       4.010000     2.000000    14.900000  "
      ]
     },
     "execution_count": 12,
     "metadata": {},
     "output_type": "execute_result"
    }
   ],
   "source": [
    "dataset = pd.DataFrame({'fixed acidity': features[:, 0], 'volatile acidity': features[:, 1], 'citric acid': features[:, 2]\n",
    "                        , 'residual sugar': features[:, 3], 'chlorides': features[:, 4], 'free sulfur dioxide': features[:, 5]\n",
    "                       , 'total sulfur dioxide': features[:, 6], 'density': features[:, 7], 'pH': features[:, 8]\n",
    "                       , 'sulphates': features[:, 9], 'alcohol': features[:, 10]})\n",
    "dataset.describe()"
   ]
  },
  {
   "cell_type": "markdown",
   "id": "individual-obligation",
   "metadata": {},
   "source": [
    "It seems that the dataset is not normalized (the mean if features not zero)  \n",
    "Let's standardize the dataset"
   ]
  },
  {
   "cell_type": "code",
   "execution_count": 13,
   "id": "recognized-charity",
   "metadata": {},
   "outputs": [],
   "source": [
    "features_standardize = standardize_data(features)\n",
    "#features_standardize = np.round(features_standardize, 6)"
   ]
  },
  {
   "cell_type": "code",
   "execution_count": 14,
   "id": "coral-footage",
   "metadata": {
    "scrolled": true
   },
   "outputs": [
    {
     "data": {
      "text/html": [
       "<div>\n",
       "<style scoped>\n",
       "    .dataframe tbody tr th:only-of-type {\n",
       "        vertical-align: middle;\n",
       "    }\n",
       "\n",
       "    .dataframe tbody tr th {\n",
       "        vertical-align: top;\n",
       "    }\n",
       "\n",
       "    .dataframe thead th {\n",
       "        text-align: right;\n",
       "    }\n",
       "</style>\n",
       "<table border=\"1\" class=\"dataframe\">\n",
       "  <thead>\n",
       "    <tr style=\"text-align: right;\">\n",
       "      <th></th>\n",
       "      <th>fixed acidity</th>\n",
       "      <th>volatile acidity</th>\n",
       "      <th>citric acid</th>\n",
       "      <th>residual sugar</th>\n",
       "      <th>chlorides</th>\n",
       "      <th>free sulfur dioxide</th>\n",
       "      <th>total sulfur dioxide</th>\n",
       "      <th>density</th>\n",
       "      <th>pH</th>\n",
       "      <th>sulphates</th>\n",
       "      <th>alcohol</th>\n",
       "    </tr>\n",
       "  </thead>\n",
       "  <tbody>\n",
       "    <tr>\n",
       "      <th>count</th>\n",
       "      <td>1359.0000</td>\n",
       "      <td>1359.0000</td>\n",
       "      <td>1359.0000</td>\n",
       "      <td>1359.0000</td>\n",
       "      <td>1359.0000</td>\n",
       "      <td>1359.0000</td>\n",
       "      <td>1359.0000</td>\n",
       "      <td>1359.0000</td>\n",
       "      <td>1359.0000</td>\n",
       "      <td>1359.0000</td>\n",
       "      <td>1359.0000</td>\n",
       "    </tr>\n",
       "    <tr>\n",
       "      <th>mean</th>\n",
       "      <td>-0.0000</td>\n",
       "      <td>0.0000</td>\n",
       "      <td>0.0000</td>\n",
       "      <td>-0.0000</td>\n",
       "      <td>0.0000</td>\n",
       "      <td>-0.0000</td>\n",
       "      <td>0.0000</td>\n",
       "      <td>0.0000</td>\n",
       "      <td>-0.0000</td>\n",
       "      <td>-0.0000</td>\n",
       "      <td>0.0000</td>\n",
       "    </tr>\n",
       "    <tr>\n",
       "      <th>std</th>\n",
       "      <td>1.0004</td>\n",
       "      <td>1.0004</td>\n",
       "      <td>1.0004</td>\n",
       "      <td>1.0004</td>\n",
       "      <td>1.0004</td>\n",
       "      <td>1.0004</td>\n",
       "      <td>1.0004</td>\n",
       "      <td>1.0004</td>\n",
       "      <td>1.0004</td>\n",
       "      <td>1.0004</td>\n",
       "      <td>1.0004</td>\n",
       "    </tr>\n",
       "    <tr>\n",
       "      <th>min</th>\n",
       "      <td>-2.1370</td>\n",
       "      <td>-2.2380</td>\n",
       "      <td>-1.3933</td>\n",
       "      <td>-1.2009</td>\n",
       "      <td>-1.5423</td>\n",
       "      <td>-1.4261</td>\n",
       "      <td>-1.2225</td>\n",
       "      <td>-3.5536</td>\n",
       "      <td>-3.6765</td>\n",
       "      <td>-1.9267</td>\n",
       "      <td>-1.8789</td>\n",
       "    </tr>\n",
       "    <tr>\n",
       "      <th>25%</th>\n",
       "      <td>-0.6972</td>\n",
       "      <td>-0.7623</td>\n",
       "      <td>-0.9328</td>\n",
       "      <td>-0.4612</td>\n",
       "      <td>-0.3672</td>\n",
       "      <td>-0.8516</td>\n",
       "      <td>-0.7434</td>\n",
       "      <td>-0.5936</td>\n",
       "      <td>-0.6439</td>\n",
       "      <td>-0.6372</td>\n",
       "      <td>-0.8619</td>\n",
       "    </tr>\n",
       "    <tr>\n",
       "      <th>50%</th>\n",
       "      <td>-0.2365</td>\n",
       "      <td>-0.0518</td>\n",
       "      <td>-0.0631</td>\n",
       "      <td>-0.2392</td>\n",
       "      <td>-0.1848</td>\n",
       "      <td>-0.1813</td>\n",
       "      <td>-0.2643</td>\n",
       "      <td>-0.0048</td>\n",
       "      <td>0.0014</td>\n",
       "      <td>-0.2269</td>\n",
       "      <td>-0.2148</td>\n",
       "    </tr>\n",
       "    <tr>\n",
       "      <th>75%</th>\n",
       "      <td>0.5122</td>\n",
       "      <td>0.6041</td>\n",
       "      <td>0.8066</td>\n",
       "      <td>0.0567</td>\n",
       "      <td>0.0583</td>\n",
       "      <td>0.4890</td>\n",
       "      <td>0.4843</td>\n",
       "      <td>0.5947</td>\n",
       "      <td>0.5821</td>\n",
       "      <td>0.4179</td>\n",
       "      <td>0.6173</td>\n",
       "    </tr>\n",
       "    <tr>\n",
       "      <th>max</th>\n",
       "      <td>4.3709</td>\n",
       "      <td>5.7417</td>\n",
       "      <td>3.7228</td>\n",
       "      <td>9.5994</td>\n",
       "      <td>10.5934</td>\n",
       "      <td>5.3724</td>\n",
       "      <td>7.2514</td>\n",
       "      <td>3.7367</td>\n",
       "      <td>4.5181</td>\n",
       "      <td>7.8620</td>\n",
       "      <td>4.1304</td>\n",
       "    </tr>\n",
       "  </tbody>\n",
       "</table>\n",
       "</div>"
      ],
      "text/plain": [
       "       fixed acidity  volatile acidity  citric acid  residual sugar  \\\n",
       "count      1359.0000         1359.0000    1359.0000       1359.0000   \n",
       "mean         -0.0000            0.0000       0.0000         -0.0000   \n",
       "std           1.0004            1.0004       1.0004          1.0004   \n",
       "min          -2.1370           -2.2380      -1.3933         -1.2009   \n",
       "25%          -0.6972           -0.7623      -0.9328         -0.4612   \n",
       "50%          -0.2365           -0.0518      -0.0631         -0.2392   \n",
       "75%           0.5122            0.6041       0.8066          0.0567   \n",
       "max           4.3709            5.7417       3.7228          9.5994   \n",
       "\n",
       "       chlorides  free sulfur dioxide  total sulfur dioxide    density  \\\n",
       "count  1359.0000            1359.0000             1359.0000  1359.0000   \n",
       "mean      0.0000              -0.0000                0.0000     0.0000   \n",
       "std       1.0004               1.0004                1.0004     1.0004   \n",
       "min      -1.5423              -1.4261               -1.2225    -3.5536   \n",
       "25%      -0.3672              -0.8516               -0.7434    -0.5936   \n",
       "50%      -0.1848              -0.1813               -0.2643    -0.0048   \n",
       "75%       0.0583               0.4890                0.4843     0.5947   \n",
       "max      10.5934               5.3724                7.2514     3.7367   \n",
       "\n",
       "              pH  sulphates    alcohol  \n",
       "count  1359.0000  1359.0000  1359.0000  \n",
       "mean     -0.0000    -0.0000     0.0000  \n",
       "std       1.0004     1.0004     1.0004  \n",
       "min      -3.6765    -1.9267    -1.8789  \n",
       "25%      -0.6439    -0.6372    -0.8619  \n",
       "50%       0.0014    -0.2269    -0.2148  \n",
       "75%       0.5821     0.4179     0.6173  \n",
       "max       4.5181     7.8620     4.1304  "
      ]
     },
     "execution_count": 14,
     "metadata": {},
     "output_type": "execute_result"
    }
   ],
   "source": [
    "dataset_standardize = pd.DataFrame({'fixed acidity': features_standardize[:, 0], 'volatile acidity': features_standardize[:, 1]\n",
    "                        , 'citric acid': features_standardize[:, 2], 'residual sugar': features_standardize[:, 3]\n",
    "                        , 'chlorides': features_standardize[:, 4], 'free sulfur dioxide': features_standardize[:, 5]\n",
    "                       , 'total sulfur dioxide': features_standardize[:, 6], 'density': features_standardize[:, 7]\n",
    "                        , 'pH': features_standardize[:, 8], 'sulphates': features_standardize[:, 9]\n",
    "                        , 'alcohol': features_standardize[:, 10]})\n",
    "dataset_standardize.describe().round(decimals=4)"
   ]
  },
  {
   "cell_type": "markdown",
   "id": "nominated-gabriel",
   "metadata": {},
   "source": [
    "It seems that the data is standardized, the **mean** of each feature = 0 and the **std** = 1."
   ]
  },
  {
   "cell_type": "markdown",
   "id": "retired-happening",
   "metadata": {},
   "source": [
    "Append another column of ones to the feature space which maps adding the bias"
   ]
  },
  {
   "cell_type": "code",
   "execution_count": 15,
   "id": "chemical-there",
   "metadata": {},
   "outputs": [],
   "source": [
    "features_final = np.c_[ features_standardize, np.ones(features_standardize.shape[0]) ]"
   ]
  },
  {
   "cell_type": "markdown",
   "id": "opened-conditions",
   "metadata": {},
   "source": [
    "One Hot encode the target feature ***labels***"
   ]
  },
  {
   "cell_type": "code",
   "execution_count": 16,
   "id": "damaged-transportation",
   "metadata": {},
   "outputs": [],
   "source": [
    "labels_final = one_hot_encode(labels)"
   ]
  },
  {
   "cell_type": "code",
   "execution_count": 17,
   "id": "august-republican",
   "metadata": {},
   "outputs": [
    {
     "data": {
      "text/plain": [
       "array([0., 0., 1., 0., 0., 0.])"
      ]
     },
     "execution_count": 17,
     "metadata": {},
     "output_type": "execute_result"
    }
   ],
   "source": [
    "#test the label array after applying hot encoding\n",
    "labels_final[0]"
   ]
  },
  {
   "cell_type": "markdown",
   "id": "assisted-moisture",
   "metadata": {},
   "source": [
    "Let's split the dataset into training and testing sets"
   ]
  },
  {
   "cell_type": "code",
   "execution_count": 18,
   "id": "optimum-canon",
   "metadata": {},
   "outputs": [],
   "source": [
    "X_train, y_train, X_test, y_test = shuffle_split_data(features_final, labels_final, 50)"
   ]
  },
  {
   "cell_type": "code",
   "execution_count": 19,
   "id": "written-bullet",
   "metadata": {},
   "outputs": [
    {
     "name": "stdout",
     "output_type": "stream",
     "text": [
      "Training Set shape: (680, 12)\n",
      "Testing Set shape: (679, 12)\n"
     ]
    }
   ],
   "source": [
    "print(\"Training Set shape: \" + str(X_train.shape))\n",
    "print(\"Testing Set shape: \" + str(X_test.shape))"
   ]
  },
  {
   "cell_type": "markdown",
   "id": "strategic-chester",
   "metadata": {},
   "source": [
    "**5. Build neural network model**\n",
    "#### General steps to build neural network:\n",
    "1. Define the neural network structure ( # of input units,  # of hidden units, etc)\n",
    "2. Initialize the model's parameters\n",
    "3. Loop:\n",
    "    - Implement forward propagation\n",
    "    - Compute loss\n",
    "    - Implement backward propagation to get the gradients\n",
    "    - Update parameters\n"
   ]
  },
  {
   "cell_type": "code",
   "execution_count": 20,
   "id": "silver-textbook",
   "metadata": {},
   "outputs": [],
   "source": [
    "class ANN:\n",
    "    def __init__(self, layers_size):\n",
    "        self.layers_size = layers_size\n",
    "        self.parameters = {}\n",
    "        self.L = len(self.layers_size)\n",
    "        self.n = 0\n",
    "        self.costs = [] \n",
    "\n",
    "    def relu(self,Z):\n",
    "        '''\n",
    "        The ReLu activation function is to performs a threshold\n",
    "        operation to each input element where values less \n",
    "        than zero are set to zero.\n",
    "        '''\n",
    "        return np.maximum(0,Z)\n",
    "\n",
    "    def dRelu(self, x):\n",
    "        x[x<=0] = 0\n",
    "        x[x>0] = 1\n",
    "        return x\n",
    "    \n",
    "    def softmax(self, Z):\n",
    "        expZ = np.exp(Z - np.max(Z))\n",
    "        return expZ / expZ.sum(axis=0, keepdims=True)\n",
    " \n",
    "    def initialize_parameters(self):\n",
    "        np.random.seed(1)\n",
    " \n",
    "        for l in range(1, len(self.layers_size)):\n",
    "            self.parameters[\"W\" + str(l)] = np.random.randn(self.layers_size[l], self.layers_size[l - 1]) / np.sqrt(\n",
    "                self.layers_size[l - 1])\n",
    " \n",
    "    def forward(self, X):\n",
    "        store = {}\n",
    "        \n",
    "        A = X.T\n",
    "        for l in range(self.L - 1):\n",
    "            Z = self.parameters[\"W\" + str(l + 1)].dot(A)\n",
    "            A = self.relu(Z)\n",
    "            store[\"A\" + str(l + 1)] = A\n",
    "            store[\"W\" + str(l + 1)] = self.parameters[\"W\" + str(l + 1)]\n",
    "            store[\"Z\" + str(l + 1)] = Z\n",
    " \n",
    "        Z = self.parameters[\"W\" + str(self.L)].dot(A) \n",
    "        A = self.softmax(Z)\n",
    "        store[\"A\" + str(self.L)] = A\n",
    "        store[\"W\" + str(self.L)] = self.parameters[\"W\" + str(self.L)]\n",
    "        store[\"Z\" + str(self.L)] = Z\n",
    "        return A, store\n",
    "\n",
    " \n",
    "    def backward(self, X, Y, store):\n",
    "        derivatives = {}\n",
    "        store[\"A0\"] = X.T\n",
    "\n",
    "        A = store[\"A\" + str(self.L)]\n",
    "        dZ = A - Y.T\n",
    " \n",
    "        dW = dZ.dot(store[\"A\" + str(self.L - 1)].T) / self.n\n",
    "        dAPrev = store[\"W\" + str(self.L)].T.dot(dZ)\n",
    "\n",
    "        derivatives[\"dW\" + str(self.L)] = dW\n",
    " \n",
    "        for l in range(self.L - 1, 0, -1):\n",
    "            dZ = dAPrev * self.dRelu(store[\"Z\" + str(l)])\n",
    "            dW = 1. / self.n * dZ.dot(store[\"A\" + str(l - 1)].T)\n",
    "            if l > 1:\n",
    "                dAPrev = store[\"W\" + str(l)].T.dot(dZ)\n",
    " \n",
    "            derivatives[\"dW\" + str(l)] = dW\n",
    " \n",
    "        return derivatives\n",
    " \n",
    "    def fit(self, X, Y, learning_rate, n_iterations):\n",
    "        np.random.seed(1)\n",
    " \n",
    "        self.n = X.shape[0]\n",
    "        self.layers_size.insert(0, X.shape[1])\n",
    "        self.initialize_parameters()\n",
    "        for loop in range(n_iterations):\n",
    "            A, store = self.forward(X)\n",
    "            cost = np.sum((Y - A.T) ** 2)/ self.n  ##Mean Square Error\n",
    "            \n",
    "            derivatives = self.backward(X, Y, store)\n",
    " \n",
    "            for l in range(1, self.L + 1):\n",
    "                self.parameters[\"W\" + str(l)] = self.parameters[\"W\" + str(l)] - learning_rate * derivatives[\n",
    "                    \"dW\" + str(l)]\n",
    " \n",
    "            if loop % 100 == 0:\n",
    "                print(\"Loss: \", cost, \"Train Accuracy:\", self.predict(X, Y))\n",
    " \n",
    "            if loop % 10 == 0:\n",
    "                self.costs.append(cost)\n",
    " \n",
    "    def predict(self, X, Y):\n",
    "        A, cache = self.forward(X)\n",
    "        y_hat = np.argmax(A, axis=0)\n",
    "        Y = np.argmax(Y, axis=1)\n",
    "        accuracy = (y_hat == Y).mean()\n",
    "        return accuracy * 100\n",
    " \n",
    "    def plot_loss(self):\n",
    "        plt.figure()\n",
    "        plt.plot(np.arange(len(self.costs)), self.costs)\n",
    "        plt.xlabel(\"Iterations\")\n",
    "        plt.ylabel(\"Loss\")\n",
    "        plt.show()"
   ]
  },
  {
   "cell_type": "markdown",
   "id": "complex-remainder",
   "metadata": {},
   "source": [
    "**6. Train and plot the accuracy of the model**"
   ]
  },
  {
   "cell_type": "markdown",
   "id": "conscious-heaven",
   "metadata": {},
   "source": [
    "Set the number of neurons in hidden and ouptut layers"
   ]
  },
  {
   "cell_type": "code",
   "execution_count": 21,
   "id": "centered-international",
   "metadata": {},
   "outputs": [],
   "source": [
    "layersDims = [30, 6]"
   ]
  },
  {
   "cell_type": "markdown",
   "id": "seeing-complement",
   "metadata": {},
   "source": [
    "For learning_rate = 0.1"
   ]
  },
  {
   "cell_type": "code",
   "execution_count": 22,
   "id": "imperial-blast",
   "metadata": {},
   "outputs": [
    {
     "name": "stdout",
     "output_type": "stream",
     "text": [
      "Loss:  0.8265431653608578 Train Accuracy: 32.35294117647059\n",
      "Loss:  0.5208093887402137 Train Accuracy: 59.26470588235294\n",
      "Loss:  0.5035208738393832 Train Accuracy: 61.1764705882353\n",
      "Loss:  0.4925939227409262 Train Accuracy: 62.794117647058826\n",
      "Loss:  0.48464239119310715 Train Accuracy: 63.52941176470588\n",
      "Loss:  0.47812493753945545 Train Accuracy: 64.11764705882354\n",
      "Loss:  0.4721271536954926 Train Accuracy: 64.41176470588236\n",
      "Loss:  0.46687353209413784 Train Accuracy: 64.55882352941177\n",
      "Loss:  0.46181360703714724 Train Accuracy: 64.8529411764706\n",
      "Loss:  0.4567332626977856 Train Accuracy: 65.73529411764706\n",
      "Train Accuracy: 66.76470588235294\n",
      "Test Accuracy: 57.14285714285714\n"
     ]
    },
    {
     "data": {
      "image/png": "[encoded data removed]",
      "text/plain": [
       "<Figure size 432x288 with 1 Axes>"
      ]
     },
     "metadata": {
      "needs_background": "light"
     },
     "output_type": "display_data"
    }
   ],
   "source": [
    "ann1 = ANN(layersDims)\n",
    "ann1.fit(X_train, y_train, learning_rate=0.1, n_iterations=1000)\n",
    "print(\"Train Accuracy:\", ann1.predict(X_train, y_train))\n",
    "print(\"Test Accuracy:\", ann1.predict(X_test, y_test))\n",
    "ann1.plot_loss()"
   ]
  },
  {
   "cell_type": "markdown",
   "id": "manual-galaxy",
   "metadata": {},
   "source": [
    "For learning_rate = 0.05"
   ]
  },
  {
   "cell_type": "code",
   "execution_count": 23,
   "id": "numerous-seminar",
   "metadata": {},
   "outputs": [
    {
     "name": "stdout",
     "output_type": "stream",
     "text": [
      "Loss:  0.8929065327221574 Train Accuracy: 4.411764705882353\n",
      "Loss:  0.5638301233676902 Train Accuracy: 56.61764705882353\n",
      "Loss:  0.5319516380698833 Train Accuracy: 59.85294117647059\n",
      "Loss:  0.5153169529477301 Train Accuracy: 59.85294117647059\n",
      "Loss:  0.5035307146165067 Train Accuracy: 61.029411764705884\n",
      "Loss:  0.4945548937734092 Train Accuracy: 62.05882352941177\n",
      "Loss:  0.4878839676659328 Train Accuracy: 63.67647058823529\n",
      "Loss:  0.48268714719881795 Train Accuracy: 64.41176470588236\n",
      "Loss:  0.47838486782921336 Train Accuracy: 64.26470588235294\n",
      "Loss:  0.474200182949223 Train Accuracy: 65.44117647058823\n",
      "Train Accuracy: 66.02941176470588\n",
      "Test Accuracy: 57.437407952871865\n"
     ]
    },
    {
     "data": {
      "image/png": "[encoded data removed]",
      "text/plain": [
       "<Figure size 432x288 with 1 Axes>"
      ]
     },
     "metadata": {
      "needs_background": "light"
     },
     "output_type": "display_data"
    }
   ],
   "source": [
    "ann2 = ANN(layersDims)\n",
    "ann2.fit(X_train, y_train, learning_rate=0.05, n_iterations=1000)\n",
    "print(\"Train Accuracy:\", ann2.predict(X_train, y_train))\n",
    "print(\"Test Accuracy:\", ann2.predict(X_test, y_test))\n",
    "ann2.plot_loss()"
   ]
  },
  {
   "cell_type": "markdown",
   "id": "color-depth",
   "metadata": {},
   "source": [
    "For learning_rate = 0.01"
   ]
  },
  {
   "cell_type": "code",
   "execution_count": 24,
   "id": "expressed-venice",
   "metadata": {},
   "outputs": [
    {
     "name": "stdout",
     "output_type": "stream",
     "text": [
      "Loss:  0.8918401846756474 Train Accuracy: 12.647058823529411\n",
      "Loss:  0.7644633187245548 Train Accuracy: 46.32352941176471\n",
      "Loss:  0.6765146202997322 Train Accuracy: 48.8235294117647\n",
      "Loss:  0.6287759426611269 Train Accuracy: 53.088235294117645\n",
      "Loss:  0.6018526712044446 Train Accuracy: 54.11764705882353\n",
      "Loss:  0.5831539749332968 Train Accuracy: 57.205882352941174\n",
      "Loss:  0.5686389632156069 Train Accuracy: 57.79411764705882\n",
      "Loss:  0.5571811582074602 Train Accuracy: 58.6764705882353\n",
      "Loss:  0.5484188704597996 Train Accuracy: 59.85294117647059\n",
      "Loss:  0.541420091025964 Train Accuracy: 60.147058823529406\n",
      "Train Accuracy: 60.147058823529406\n",
      "Test Accuracy: 55.52282768777614\n"
     ]
    },
    {
     "data": {
      "image/png": "[encoded data removed]",
      "text/plain": [
       "<Figure size 432x288 with 1 Axes>"
      ]
     },
     "metadata": {
      "needs_background": "light"
     },
     "output_type": "display_data"
    }
   ],
   "source": [
    "ann3 = ANN(layersDims)\n",
    "ann3.fit(X_train, y_train, learning_rate=0.01, n_iterations=1000)\n",
    "print(\"Train Accuracy:\", ann3.predict(X_train, y_train))\n",
    "print(\"Test Accuracy:\", ann3.predict(X_test, y_test))\n",
    "ann3.plot_loss()"
   ]
  },
  {
   "cell_type": "code",
   "execution_count": null,
   "id": "9cae6d60",
   "metadata": {},
   "outputs": [],
   "source": []
  }
 ],
 "metadata": {
  "kernelspec": {
   "display_name": "Python 3 (ipykernel)",
   "language": "python",
   "name": "python3"
  },
  "language_info": {
   "codemirror_mode": {
    "name": "ipython",
    "version": 3
   },
   "file_extension": ".py",
   "mimetype": "text/x-python",
   "name": "python",
   "nbconvert_exporter": "python",
   "pygments_lexer": "ipython3",
   "version": "3.9.12"
  }
 },
 "nbformat": 4,
 "nbformat_minor": 5
}
